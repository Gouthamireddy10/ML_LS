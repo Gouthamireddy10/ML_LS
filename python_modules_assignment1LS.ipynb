{
 "cells": [
  {
   "cell_type": "code",
   "execution_count": 1,
   "id": "f7f38103",
   "metadata": {},
   "outputs": [
    {
     "name": "stdout",
     "output_type": "stream",
     "text": [
      "[1 2 3]\n"
     ]
    }
   ],
   "source": [
    "import numpy as np\n",
    "# Create a 2D Numpy array of size 1x3 with elements of your choice\n",
    "arr1=np.array([1,2,3]);\n",
    "print(arr1);"
   ]
  },
  {
   "cell_type": "code",
   "execution_count": 2,
   "id": "2f1d41f9",
   "metadata": {},
   "outputs": [
    {
     "name": "stdout",
     "output_type": "stream",
     "text": [
      "[0. 0. 0. 0. 0. 0. 0. 0. 0. 0. 0. 0. 0. 0. 0. 0. 0. 0. 0. 0. 0. 0. 0. 0.\n",
      " 0. 0. 0. 0. 0. 0. 0. 0. 0. 0. 0. 0. 0. 0. 0. 0. 0. 0. 0. 0. 0. 0. 0. 0.\n",
      " 0. 0.]\n"
     ]
    }
   ],
   "source": [
    "# Create a Numpy array of length 50 with zeroes as its elements\n",
    "arr2=np.zeros(50);\n",
    "print(arr2);"
   ]
  },
  {
   "cell_type": "code",
   "execution_count": 3,
   "id": "74f4f820",
   "metadata": {},
   "outputs": [
    {
     "name": "stdout",
     "output_type": "stream",
     "text": [
      "[[1 1]\n",
      " [2 2]\n",
      " [3 3]]\n"
     ]
    }
   ],
   "source": [
    "#Create a Numpy array of length 3x2 with elements of your choice\n",
    "arr3=np.array([[1,1],[2,2],[3,3]]);\n",
    "print(arr3);"
   ]
  },
  {
   "cell_type": "code",
   "execution_count": 4,
   "id": "c6f27424",
   "metadata": {},
   "outputs": [],
   "source": [
    "arr4=np.matmul(arr1,arr3);#Multiply arr1 and arr3 using Numpy functions\n",
    "arr4=arr4.reshape(1,2);\n"
   ]
  },
  {
   "cell_type": "code",
   "execution_count": 5,
   "id": "93f273fb",
   "metadata": {},
   "outputs": [
    {
     "name": "stdout",
     "output_type": "stream",
     "text": [
      "[0. 0. 0. 0. 1. 0. 0. 0. 0. 0. 0. 0. 0. 0. 0. 0. 0. 0. 0. 0. 0. 0. 0. 0.\n",
      " 0. 0. 0. 0. 0. 0. 0. 0. 0. 0. 0. 0. 0. 0. 0. 0. 0. 0. 0. 0. 0. 0. 0. 0.\n",
      " 0. 0.]\n"
     ]
    }
   ],
   "source": [
    "#Change 5th element of arr2 to a different number\n",
    "#Your code here\n",
    "arr2[4]=1;\n",
    "print(arr2);\n"
   ]
  },
  {
   "cell_type": "code",
   "execution_count": 6,
   "id": "6cab5ea2",
   "metadata": {},
   "outputs": [
    {
     "name": "stdout",
     "output_type": "stream",
     "text": [
      "Passed\n"
     ]
    }
   ],
   "source": [
    "if np.shape(arr4)==(1,2) and arr2[4]!=0:\n",
    "  print(\"Passed\")\n",
    "else:\n",
    "  print(\"Fail\")"
   ]
  },
  {
   "cell_type": "code",
   "execution_count": 7,
   "id": "23b0a182",
   "metadata": {},
   "outputs": [
    {
     "name": "stdout",
     "output_type": "stream",
     "text": [
      "[[10.  1.  1.]\n",
      " [ 1. 10.  1.]\n",
      " [ 1.  1. 10.]]\n"
     ]
    }
   ],
   "source": [
    "#Task: Perform the dot product of I and 9I+1 using numpy, here I is referred to as an 3x3 Identity matrix.\n",
    "ident1=np.eye(3);\n",
    "ident2=ident1*9+1;\n",
    "result=np.dot(ident1,ident2);\n",
    "print(result);"
   ]
  },
  {
   "cell_type": "markdown",
   "id": "82f27594",
   "metadata": {},
   "source": [
    "###     Pandas implementation"
   ]
  },
  {
   "cell_type": "code",
   "execution_count": 8,
   "id": "62868630",
   "metadata": {},
   "outputs": [],
   "source": [
    "import pandas as pd\n"
   ]
  },
  {
   "cell_type": "code",
   "execution_count": 9,
   "id": "0dd4ca72",
   "metadata": {},
   "outputs": [
    {
     "name": "stdout",
     "output_type": "stream",
     "text": [
      "     Name  Age       City\n",
      "0  Ramesh   25  Bangalore\n",
      "1  Mahesh   30     Mumbai\n",
      "2  Suresh   35      Delhi\n"
     ]
    }
   ],
   "source": [
    "## Create a DataFrame from a dictionary\n",
    "data = {\n",
    "    'Name': ['Ramesh', 'Mahesh', 'Suresh'],\n",
    "    'Age': [25, 30, 35],\n",
    "    'City': ['Bangalore', 'Mumbai', 'Delhi']\n",
    "}\n",
    "#Your code here\n",
    "df=pd.DataFrame(data);\n",
    "print(df);\n"
   ]
  },
  {
   "cell_type": "code",
   "execution_count": 10,
   "id": "3bd2f55b",
   "metadata": {},
   "outputs": [
    {
     "name": "stdout",
     "output_type": "stream",
     "text": [
      "     Name  Age       City\n",
      "0  Ramesh   25  Bangalore\n",
      "1  Mahesh   30     Mumbai\n",
      "0    25\n",
      "1    30\n",
      "2    35\n",
      "Name: Age, dtype: int64\n",
      "     Name  Age    City\n",
      "1  Mahesh   30  Mumbai\n",
      "2  Suresh   35   Delhi\n"
     ]
    }
   ],
   "source": [
    "#Display the first 2 rows of the data frame\n",
    "#Your code here\n",
    "print(df.loc[[0,1]])\n",
    "\n",
    "#Print the age column\n",
    "#Your code here\n",
    "print(df['Age'])\n",
    "\n",
    "#Filter rows where age is greater than 26\n",
    "#Your code here\n",
    "print(df[df['Age'] > 26])"
   ]
  },
  {
   "cell_type": "code",
   "execution_count": 11,
   "id": "724afbfb",
   "metadata": {},
   "outputs": [
    {
     "name": "stdout",
     "output_type": "stream",
     "text": [
      "     Name  Age       City Country\n",
      "0  Ramesh   25  Bangalore   India\n",
      "1  Mahesh   30     Mumbai   India\n",
      "2  Suresh   35      Delhi   India\n"
     ]
    }
   ],
   "source": [
    "#Add a new column 'Country' with the value 'India' for all rows\n",
    "#Your code here\n",
    "df['Country'] = 'India'\n",
    "print(df)\n"
   ]
  },
  {
   "cell_type": "code",
   "execution_count": 12,
   "id": "20c9a3de",
   "metadata": {},
   "outputs": [
    {
     "name": "stdout",
     "output_type": "stream",
     "text": [
      "     Name   Age       City\n",
      "0  Ramesh  25.0  Bangalore\n",
      "1  Mahesh  30.0     Mumbai\n",
      "2  Suresh  35.0      Delhi\n"
     ]
    }
   ],
   "source": [
    "data1 = {\n",
    "    'Name': ['Ramesh', 'Mahesh', 'Suresh'],\n",
    "    'Age': [25, None, 35],\n",
    "    'City': ['Bangalore', 'Mumbai', 'Delhi']\n",
    "}\n",
    "\n",
    "df2= pd.DataFrame(data1)\n",
    "\n",
    "# Fill missing values in the 'Age' column with the mean age\n",
    "#Your code here\n",
    "mean_age = df2['Age'].mean()\n",
    "df2['Age'].fillna(mean_age, inplace=True)\n",
    "print(df2)"
   ]
  },
  {
   "cell_type": "markdown",
   "id": "670a1f4f",
   "metadata": {},
   "source": [
    "### Matplotlib Implementation"
   ]
  },
  {
   "cell_type": "code",
   "execution_count": 13,
   "id": "1f38bed8",
   "metadata": {},
   "outputs": [],
   "source": [
    "import matplotlib.pyplot as plt\n",
    " #numpy module. Fill your code\n",
    "import numpy as np"
   ]
  },
  {
   "cell_type": "code",
   "execution_count": 14,
   "id": "b9f45161",
   "metadata": {},
   "outputs": [
    {
     "data": {
      "image/png": "[encoded data removed]",
      "text/plain": [
       "<Figure size 640x480 with 1 Axes>"
      ]
     },
     "metadata": {},
     "output_type": "display_data"
    }
   ],
   "source": [
    "xpoints=np.array([1,2,3,4])\n",
    "ypoints=np.array([2,4,6,8])\n",
    "\n",
    "#Plot these points without drawing a line\n",
    "#Your code here\n",
    "plt.plot(xpoints,ypoints,linestyle='None')\n",
    "plt.show()"
   ]
  },
  {
   "cell_type": "code",
   "execution_count": 15,
   "id": "63406d9b",
   "metadata": {},
   "outputs": [
    {
     "data": {
      "image/png": "[encoded data removed]",
      "text/plain": [
       "<Figure size 640x480 with 1 Axes>"
      ]
     },
     "metadata": {},
     "output_type": "display_data"
    }
   ],
   "source": [
    "#Plotting with marker: Plot these points with a marker(Star marker)\n",
    "#Your code here\n",
    "plt.plot(xpoints,ypoints,marker='*',linestyle='None')\n",
    "plt.show()\n"
   ]
  },
  {
   "cell_type": "code",
   "execution_count": 16,
   "id": "e49d1864",
   "metadata": {},
   "outputs": [
    {
     "data": {
      "image/png": "[encoded data removed]",
      "text/plain": [
       "<Figure size 640x480 with 1 Axes>"
      ]
     },
     "metadata": {},
     "output_type": "display_data"
    }
   ],
   "source": [
    "#Using fmt format, add circular marker,red color and Dashed line\n",
    "#Your code here\n",
    "plt.plot(xpoints, ypoints, 'ro--')  \n",
    "plt.show()"
   ]
  },
  {
   "cell_type": "code",
   "execution_count": 17,
   "id": "04f0aee9",
   "metadata": {},
   "outputs": [
    {
     "data": {
      "image/png": "[encoded data removed]",
      "text/plain": [
       "<Figure size 640x480 with 1 Axes>"
      ]
     },
     "metadata": {},
     "output_type": "display_data"
    }
   ],
   "source": [
    "#Add xlabel,ylabel and title for the plot.\n",
    "#Your code here\n",
    "plt.plot(xpoints, ypoints, 'ro--')  \n",
    "plt.xlabel('X Axis')\n",
    "plt.ylabel('Y Axis')\n",
    "plt.title('X v/s Y graph')\n",
    "plt.show()\n"
   ]
  },
  {
   "cell_type": "code",
   "execution_count": 18,
   "id": "b88a7bb6",
   "metadata": {},
   "outputs": [
    {
     "data": {
      "image/png": "[encoded data removed]",
      "text/plain": [
       "<Figure size 640x480 with 1 Axes>"
      ]
     },
     "metadata": {},
     "output_type": "display_data"
    }
   ],
   "source": [
    "#Create a scatter plot for xpoints and ypoints\n",
    "#Your code here\n",
    "plt.scatter(xpoints, ypoints)\n",
    "plt.show()\n"
   ]
  },
  {
   "cell_type": "code",
   "execution_count": 19,
   "id": "0237e298",
   "metadata": {},
   "outputs": [
    {
     "data": {
      "image/png": "[encoded data removed]",
      "text/plain": [
       "<Figure size 640x480 with 1 Axes>"
      ]
     },
     "metadata": {},
     "output_type": "display_data"
    }
   ],
   "source": [
    "#Set color to the scatter plot. Blue,Green,Red and yellow color for each point respectively\n",
    "colors = ['blue', 'green', 'red', 'yellow']\n",
    "plt.scatter(xpoints, ypoints, c=colors)\n",
    "plt.show()"
   ]
  },
  {
   "cell_type": "markdown",
   "id": "ccabceb7",
   "metadata": {},
   "source": [
    "### Miscellaneous Modules Implementation"
   ]
  },
  {
   "cell_type": "code",
   "execution_count": 20,
   "id": "02e01347",
   "metadata": {},
   "outputs": [],
   "source": [
    "import random\n",
    "import numpy as np"
   ]
  },
  {
   "cell_type": "code",
   "execution_count": 21,
   "id": "e8709a10",
   "metadata": {},
   "outputs": [],
   "source": [
    "#Set the seed of random to 20\n",
    "#Your code here\n",
    "random.seed(20)\n"
   ]
  },
  {
   "cell_type": "code",
   "execution_count": 22,
   "id": "9a5df62a",
   "metadata": {},
   "outputs": [],
   "source": [
    "arr1=np.array([1,24,31,45,73,81,94,25])\n"
   ]
  },
  {
   "cell_type": "code",
   "execution_count": 23,
   "id": "3a54ac3c",
   "metadata": {},
   "outputs": [
    {
     "name": "stdout",
     "output_type": "stream",
     "text": [
      "[31, 25, 81, 1]\n",
      "138\n"
     ]
    }
   ],
   "source": [
    "#Using the random module pick 4 different random numbers from arr1 and return their sum.\n",
    "#Your code here\n",
    "random_nums=random.sample(arr1.tolist(), 4)\n",
    "sum_ofnums=sum(random_nums)\n",
    "print(random_nums)\n",
    "print(sum_ofnums)"
   ]
  },
  {
   "cell_type": "code",
   "execution_count": null,
   "id": "5e2f3b17",
   "metadata": {},
   "outputs": [],
   "source": []
  }
 ],
 "metadata": {
  "kernelspec": {
   "display_name": "Python 3 (ipykernel)",
   "language": "python",
   "name": "python3"
  },
  "language_info": {
   "codemirror_mode": {
    "name": "ipython",
    "version": 3
   },
   "file_extension": ".py",
   "mimetype": "text/x-python",
   "name": "python",
   "nbconvert_exporter": "python",
   "pygments_lexer": "ipython3",
   "version": "3.10.9"
  }
 },
 "nbformat": 4,
 "nbformat_minor": 5
}
