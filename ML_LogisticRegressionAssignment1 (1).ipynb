{
 "cells": [
  {
   "cell_type": "code",
   "execution_count": 1,
   "id": "df37afcb",
   "metadata": {},
   "outputs": [],
   "source": [
    "import numpy as np\n",
    "import pandas as pd\n",
    "import matplotlib.pyplot as plt\n",
    "import math"
   ]
  },
  {
   "cell_type": "code",
   "execution_count": 2,
   "id": "17d318fb",
   "metadata": {},
   "outputs": [],
   "source": [
    "# Load data\n",
    "data = np.loadtxt(\"data.txt\", delimiter=',')\n",
    "X = data[:, :2]\n",
    "y = data[:, 2]\n",
    "X_train = X\n",
    "y_train = y"
   ]
  },
  {
   "cell_type": "code",
   "execution_count": 3,
   "id": "62a0b753",
   "metadata": {},
   "outputs": [
    {
     "data": {
      "image/png": "[encoded data removed]",
      "text/plain": [
       "<Figure size 640x480 with 1 Axes>"
      ]
     },
     "metadata": {},
     "output_type": "display_data"
    }
   ],
   "source": [
    "# Plot data to visualize\n",
    "def plot_data(X, y, positive_label=\"y=1\", negative_label=\"y=0\"):\n",
    "    positive = y == 1\n",
    "    negative = y == 0\n",
    "    plt.plot(X[positive, 0], X[positive, 1], 'k+', label=positive_label)\n",
    "    plt.plot(X[negative, 0], X[negative, 1], 'yo', label=negative_label)\n",
    "\n",
    "plot_data(X_train, y_train[:], positive_label=\"Accepted\", negative_label=\"Rejected\")\n",
    "\n",
    "plt.xlabel('Test 2')\n",
    "plt.ylabel('Test 1')\n",
    "plt.legend(loc=\"upper right\")\n",
    "plt.show()"
   ]
  },
  {
   "cell_type": "code",
   "execution_count": 4,
   "id": "f6ff6ada",
   "metadata": {},
   "outputs": [],
   "source": [
    "# Feature mapping\n",
    "def map_feature(X1, X2):\n",
    "    X1 = np.atleast_1d(X1)\n",
    "    X2 = np.atleast_1d(X2)\n",
    "    degree = 6\n",
    "    out = []\n",
    "    for i in range(1, degree + 1):\n",
    "        for j in range(i + 1):\n",
    "            out.append(X1**(i - j) * X2**j)\n",
    "    return np.stack(out, axis=1)"
   ]
  },
  {
   "cell_type": "code",
   "execution_count": 5,
   "id": "2dff2ffb",
   "metadata": {},
   "outputs": [
    {
     "name": "stdout",
     "output_type": "stream",
     "text": [
      "Original shape of data: (118, 2)\n",
      "Shape after feature mapping: (118, 27)\n"
     ]
    }
   ],
   "source": [
    "print(\"Original shape of data:\", X_train.shape)\n",
    "mapped_X = map_feature(X_train[:, 0], X_train[:, 1])\n",
    "print(\"Shape after feature mapping:\", mapped_X.shape)\n"
   ]
  },
  {
   "cell_type": "code",
   "execution_count": 6,
   "id": "6595c79b",
   "metadata": {},
   "outputs": [
    {
     "name": "stdout",
     "output_type": "stream",
     "text": [
      "\u001b[92mTests passed!\n"
     ]
    }
   ],
   "source": [
    "# @title DO NOT EDIT THIS CODE\n",
    "def sigmoid_test(target):\n",
    "    assert np.isclose(target(3.0), 0.9525741268224334), \"Failed for scalar input\"\n",
    "    assert np.allclose(target(np.array([2.5, 0])), [0.92414182, 0.5]), \"Failed for 1D array\"\n",
    "    assert np.allclose(target(np.array([[2.5, -2.5], [0, 1]])),\n",
    "                       [[0.92414182, 0.07585818], [0.5, 0.73105858]]), \"Failed for 2D array\"\n",
    "    print('\\033[92mTests passed!')\n",
    "\n",
    "# Sigmoid function\n",
    "def sigmoid(z):\n",
    "    return 1 / (1 + np.exp(-z))\n",
    "\n",
    "sigmoid_test(sigmoid)"
   ]
  },
  {
   "cell_type": "code",
   "execution_count": 7,
   "id": "d96fd609",
   "metadata": {},
   "outputs": [
    {
     "name": "stdout",
     "output_type": "stream",
     "text": [
      "\u001b[92mTests passed!\n",
      "Cost at test w,b: 11.777\n"
     ]
    }
   ],
   "source": [
    "# @title DO NOT EDIT THIS CODE\n",
    "def compute_cost_test(target):\n",
    "    X = np.array([[0, 0, 0, 0]]).T\n",
    "    y = np.array([0, 0, 0, 0])\n",
    "    w = np.array([0])\n",
    "    b = 1\n",
    "    result = target(X, y, w, b)\n",
    "    if math.isinf(result):\n",
    "        raise ValueError(\"Did you get the sigmoid of z_wb?\")\n",
    "\n",
    "    np.random.seed(17)\n",
    "    X = np.random.randn(5, 2)\n",
    "    y = np.array([1, 0, 0, 1, 1])\n",
    "    w = np.random.randn(2)\n",
    "    b = 0\n",
    "    result = target(X, y, w, b)\n",
    "    assert np.isclose(result, 2.15510667), f\"Wrong output. Expected: {2.15510667} got: {result}\"\n",
    "\n",
    "    X = np.random.randn(4, 3)\n",
    "    y = np.array([1, 1, 0, 0])\n",
    "    w = np.random.randn(3)\n",
    "    b = 0\n",
    "\n",
    "    result = target(X, y, w, b)\n",
    "    assert np.isclose(result, 0.80709376), f\"Wrong output. Expected: {0.80709376} got: {result}\"\n",
    "\n",
    "    X = np.random.randn(4, 3)\n",
    "    y = np.array([1, 0,1, 0])\n",
    "    w = np.random.randn(3)\n",
    "    b = 3\n",
    "    result = target(X, y, w, b)\n",
    "    assert np.isclose(result, 0.4529660647), f\"Wrong output. Expected: {0.4529660647} got: {result}. Did you inizialized z_wb = b?\"\n",
    "\n",
    "    print('\\033[92mTests passed!')\n",
    "\n",
    "# Compute cost\n",
    "def compute_cost(X, y, w, b, lambda_=0):\n",
    "    m = X.shape[0]\n",
    "    z = np.dot(X, w) + b\n",
    "    h = sigmoid(z)\n",
    "    cost = -(1/m) * (np.dot(y, np.log(h)) + np.dot(1 - y, np.log(1 - h)))\n",
    "    reg_cost = (lambda_ / (2 * m)) * np.sum(np.square(w))\n",
    "    total_cost = cost + reg_cost\n",
    "    return total_cost\n",
    "\n",
    "compute_cost_test(compute_cost)\n",
    "\n",
    "# Test compute_cost function\n",
    "test_w = np.array([0.2, 0.2])\n",
    "test_b = -24.\n",
    "cost = compute_cost(X_train, y_train, test_w, test_b)\n",
    "print('Cost at test w,b: {:.3f}'.format(cost))\n"
   ]
  },
  {
   "cell_type": "code",
   "execution_count": 8,
   "id": "3434cc0b",
   "metadata": {},
   "outputs": [
    {
     "name": "stdout",
     "output_type": "stream",
     "text": [
      "\u001b[92mAll tests passed!\n",
      "Regularised cost : 0.6618252552483949\n"
     ]
    }
   ],
   "source": [
    "# @title DO NOT EDIT THIS CODE\n",
    "def compute_cost_reg_test(target):\n",
    "    np.random.seed(1)\n",
    "    w = np.random.randn(3)\n",
    "    b = 0.4\n",
    "    X = np.random.randn(6, 3)\n",
    "    y = np.array([0, 1, 1, 0, 1, 1])\n",
    "    lambda_ = 0.1\n",
    "    expected_output = target(X, y, w, b, lambda_)\n",
    "\n",
    "    assert np.isclose(expected_output, 0.5469746792761936), f\"Wrong output. Expected: {0.5469746792761936} got:{expected_output}\"\n",
    "\n",
    "    w = np.random.randn(5)\n",
    "    b = -0.6\n",
    "    X = np.random.randn(8, 5)\n",
    "    y = np.array([1, 0, 1, 0, 0, 1, 0, 1])\n",
    "    lambda_ = 0.01\n",
    "    output = target(X, y, w, b, lambda_)\n",
    "    assert np.isclose(output, 1.2608591964119995), f\"Wrong output. Expected: {1.2608591964119995} got:{output}\"\n",
    "\n",
    "    w = np.array([2, 2, 2, 2, 2])\n",
    "    b = 0\n",
    "    X = np.zeros((8, 5))\n",
    "    y = np.array([0.5] * 8)\n",
    "    lambda_ = 3\n",
    "    output = target(X, y, w, b, lambda_)\n",
    "    expected = -np.log(0.5) + 3. / (2. * 8.) * 20.\n",
    "    assert np.isclose(output, expected), f\"Wrong output. Expected: {expected} got:{output}\"\n",
    "\n",
    "    print('\\033[92mAll tests passed!')\n",
    "\n",
    "# Compute regularized cost\n",
    "def compute_cost_reg(X, y, w, b, lambda_=1):\n",
    "    return compute_cost(X, y, w, b, lambda_)\n",
    "\n",
    "compute_cost_reg_test(compute_cost_reg)\n",
    "\n",
    "X_mapped = map_feature(X_train[:, 0], X_train[:, 1])\n",
    "np.random.seed(1)\n",
    "initial_w = np.random.rand(X_mapped.shape[1]) - 0.5\n",
    "initial_b = 0.5\n",
    "lambda_ = 0.5\n",
    "cost = compute_cost_reg(X_mapped, y_train, initial_w, initial_b, lambda_)\n",
    "\n",
    "print(\"Regularised cost :\", cost)\n"
   ]
  },
  {
   "cell_type": "code",
   "execution_count": 9,
   "id": "81320347",
   "metadata": {},
   "outputs": [
    {
     "name": "stdout",
     "output_type": "stream",
     "text": [
      "\u001b[92mTests passed!\n",
      "dj_db: 0.2893609413522082, dj_dw: [-0.11999166171958331, 0.4149877494464399, -0.7196840467264483]\n"
     ]
    }
   ],
   "source": [
    "# @title DO NOT EDIT THIS CODE\n",
    "def compute_gradient_test(target):\n",
    "    np.random.seed(1)\n",
    "    X = np.random.randn(7, 3)\n",
    "    y = np.array([1, 0, 1, 0, 1, 1, 0])\n",
    "    test_w = np.array([1, 0.5, -0.35])\n",
    "    test_b = 1.7\n",
    "    dj_db, dj_dw  = target(X, y, test_w, test_b)\n",
    "\n",
    "    assert np.isclose(dj_db, 0.28936094), f\"Wrong value for dj_db. Expected: {0.28936094} got: {dj_db}\"\n",
    "    assert dj_dw.shape == test_w.shape, f\"Wrong shape for dj_dw. Expected: {test_w.shape} got: {dj_dw.shape}\"\n",
    "    assert np.allclose(dj_dw, [-0.11999166, 0.41498775, -0.71968405]), f\"Wrong values for dj_dw. Got: {dj_dw}\"\n",
    "\n",
    "    print('\\033[92mTests passed!')\n",
    "    print(f\"dj_db: {dj_db}, dj_dw: {dj_dw.tolist()}\")\n",
    "\n",
    "# Compute gradient\n",
    "def compute_gradient(X, y, w, b, lambda_=None):\n",
    "    m, n = X.shape\n",
    "    z = np.dot(X, w) + b\n",
    "    h = sigmoid(z)\n",
    "    error = h - y\n",
    "    dj_dw = (1/m) * np.dot(X.T, error)\n",
    "    dj_db = (1/m) * np.sum(error)\n",
    "    return dj_db, dj_dw\n",
    "\n",
    "compute_gradient_test(compute_gradient)\n"
   ]
  },
  {
   "cell_type": "code",
   "execution_count": 10,
   "id": "6adaa084",
   "metadata": {},
   "outputs": [
    {
     "ename": "AssertionError",
     "evalue": "Wrong value for dj_db. Expected: 0.196056 got: -0.23730675724053144",
     "output_type": "error",
     "traceback": [
      "\u001b[1;31m---------------------------------------------------------------------------\u001b[0m",
      "\u001b[1;31mAssertionError\u001b[0m                            Traceback (most recent call last)",
      "Cell \u001b[1;32mIn[10], line 38\u001b[0m\n\u001b[0;32m     34\u001b[0m     \u001b[38;5;28;01massert\u001b[39;00m np\u001b[38;5;241m.\u001b[39mallclose(dj_dw, expected_dw), \u001b[38;5;124mf\u001b[39m\u001b[38;5;124m\"\u001b[39m\u001b[38;5;124mWrong value for dj_dw. Expected: \u001b[39m\u001b[38;5;132;01m{\u001b[39;00mexpected_dw\u001b[38;5;132;01m}\u001b[39;00m\u001b[38;5;124m got: \u001b[39m\u001b[38;5;132;01m{\u001b[39;00mdj_dw\u001b[38;5;132;01m}\u001b[39;00m\u001b[38;5;124m\"\u001b[39m\n\u001b[0;32m     36\u001b[0m     \u001b[38;5;28mprint\u001b[39m(\u001b[38;5;124m'\u001b[39m\u001b[38;5;130;01m\\033\u001b[39;00m\u001b[38;5;124m[92mTests passed!\u001b[39m\u001b[38;5;124m'\u001b[39m)\n\u001b[1;32m---> 38\u001b[0m \u001b[43mcompute_gradient_reg_test\u001b[49m\u001b[43m(\u001b[49m\u001b[43mcompute_gradient_reg\u001b[49m\u001b[43m)\u001b[49m\n",
      "Cell \u001b[1;32mIn[10], line 32\u001b[0m, in \u001b[0;36mcompute_gradient_reg_test\u001b[1;34m(target)\u001b[0m\n\u001b[0;32m     28\u001b[0m expected_dw \u001b[38;5;241m=\u001b[39m np\u001b[38;5;241m.\u001b[39marray([\u001b[38;5;241m0.063793\u001b[39m, \u001b[38;5;241m0.057232\u001b[39m, \u001b[38;5;241m0.230002\u001b[39m])\n\u001b[0;32m     30\u001b[0m dj_db, dj_dw \u001b[38;5;241m=\u001b[39m target(X, y, test_w, test_b, lambda_)\n\u001b[1;32m---> 32\u001b[0m \u001b[38;5;28;01massert\u001b[39;00m np\u001b[38;5;241m.\u001b[39misclose(dj_db, expected_db), \u001b[38;5;124mf\u001b[39m\u001b[38;5;124m\"\u001b[39m\u001b[38;5;124mWrong value for dj_db. Expected: \u001b[39m\u001b[38;5;132;01m{\u001b[39;00mexpected_db\u001b[38;5;132;01m}\u001b[39;00m\u001b[38;5;124m got: \u001b[39m\u001b[38;5;132;01m{\u001b[39;00mdj_db\u001b[38;5;132;01m}\u001b[39;00m\u001b[38;5;124m\"\u001b[39m\n\u001b[0;32m     33\u001b[0m \u001b[38;5;28;01massert\u001b[39;00m dj_dw\u001b[38;5;241m.\u001b[39mshape \u001b[38;5;241m==\u001b[39m expected_dw\u001b[38;5;241m.\u001b[39mshape, \u001b[38;5;124mf\u001b[39m\u001b[38;5;124m\"\u001b[39m\u001b[38;5;124mWrong shape for dj_dw. Expected: \u001b[39m\u001b[38;5;132;01m{\u001b[39;00mexpected_dw\u001b[38;5;241m.\u001b[39mshape\u001b[38;5;132;01m}\u001b[39;00m\u001b[38;5;124m got: \u001b[39m\u001b[38;5;132;01m{\u001b[39;00mdj_dw\u001b[38;5;241m.\u001b[39mshape\u001b[38;5;132;01m}\u001b[39;00m\u001b[38;5;124m\"\u001b[39m\n\u001b[0;32m     34\u001b[0m \u001b[38;5;28;01massert\u001b[39;00m np\u001b[38;5;241m.\u001b[39mallclose(dj_dw, expected_dw), \u001b[38;5;124mf\u001b[39m\u001b[38;5;124m\"\u001b[39m\u001b[38;5;124mWrong value for dj_dw. Expected: \u001b[39m\u001b[38;5;132;01m{\u001b[39;00mexpected_dw\u001b[38;5;132;01m}\u001b[39;00m\u001b[38;5;124m got: \u001b[39m\u001b[38;5;132;01m{\u001b[39;00mdj_dw\u001b[38;5;132;01m}\u001b[39;00m\u001b[38;5;124m\"\u001b[39m\n",
      "\u001b[1;31mAssertionError\u001b[0m: Wrong value for dj_db. Expected: 0.196056 got: -0.23730675724053144"
     ]
    }
   ],
   "source": [
    "# Compute regularized gradient\n",
    "def compute_gradient_reg(X, y, w, b, lambda_=1):\n",
    "    dj_db, dj_dw = compute_gradient(X, y, w, b, lambda_)\n",
    "\n",
    "    m = X.shape[0]\n",
    "    z = np.dot(X, w) + b\n",
    "    h = sigmoid(z)\n",
    "    error = h - y\n",
    "    dj_dw = (1/m) * np.dot(X.T, error)\n",
    "    dj_db = (1/m) * np.sum(error)\n",
    "\n",
    "    # Regularization\n",
    "    if lambda_ is not None:\n",
    "        dj_dw += (lambda_ / m) * w\n",
    "        dj_db += (lambda_ / m) * np.sum(w)\n",
    "\n",
    "    return dj_db, dj_dw\n",
    "\n",
    "# Test compute_gradient_reg function\n",
    "def compute_gradient_reg_test(target):\n",
    "    np.random.seed(2)\n",
    "    X = np.random.randn(5, 3)\n",
    "    y = np.array([1, 0, 1, 1, 0])\n",
    "    test_w = np.array([0.1, 0.2, 0.3])\n",
    "    test_b = -0.5\n",
    "    lambda_ = 0.2\n",
    "    expected_db = 0.196056\n",
    "    expected_dw = np.array([0.063793, 0.057232, 0.230002])\n",
    "\n",
    "    dj_db, dj_dw = target(X, y, test_w, test_b, lambda_)\n",
    "\n",
    "    assert np.isclose(dj_db, expected_db), f\"Wrong value for dj_db. Expected: {expected_db} got: {dj_db}\"\n",
    "    assert dj_dw.shape == expected_dw.shape, f\"Wrong shape for dj_dw. Expected: {expected_dw.shape} got: {dj_dw.shape}\"\n",
    "    assert np.allclose(dj_dw, expected_dw), f\"Wrong value for dj_dw. Expected: {expected_dw} got: {dj_dw}\"\n",
    "\n",
    "    print('\\033[92mTests passed!')\n",
    "\n",
    "compute_gradient_reg_test(compute_gradient_reg)\n"
   ]
  },
  {
   "cell_type": "code",
   "execution_count": 11,
   "id": "36ee331d",
   "metadata": {},
   "outputs": [],
   "source": [
    "# Optimization function (Gradient Descent)\n",
    "def gradient_descent(X, y, w, b, learning_rate, iterations, lambda_=None):\n",
    "    costs = []\n",
    "    for i in range(iterations):\n",
    "        cost = compute_cost(X, y, w, b, lambda_)\n",
    "        dj_db, dj_dw = compute_gradient(X, y, w, b, lambda_)\n",
    "\n",
    "        w -= learning_rate * dj_dw\n",
    "        b -= learning_rate * dj_db\n",
    "\n",
    "        if i % 100 == 0:\n",
    "            costs.append(cost)\n",
    "\n",
    "    return w, b, costs"
   ]
  },
  {
   "cell_type": "code",
   "execution_count": 12,
   "id": "be9c97cb",
   "metadata": {},
   "outputs": [
    {
     "name": "stdout",
     "output_type": "stream",
     "text": [
      "Optimal w: [ 2.39183032  3.94045671 -5.3362526  -4.81217669 -5.68823304  1.39942229\n",
      " -1.93938191 -0.82248881 -0.78302261 -4.40886268  0.45047935 -2.32355253\n",
      " -1.55520295 -3.7868141  -0.6741408  -0.33945455  0.70035165 -1.24940264\n",
      " -1.79959274  0.34113839 -3.80414553  1.13504343 -0.766241    0.5537045\n",
      " -1.17974364 -0.98166368 -1.29263196]\n",
      "Optimal b: 3.5211863444248865\n"
     ]
    }
   ],
   "source": [
    "# Test gradient descent function\n",
    "np.random.seed(3)\n",
    "test_w = np.random.rand(X_mapped.shape[1])\n",
    "test_b = 0.5\n",
    "learning_rate = 0.3\n",
    "iterations = 5000\n",
    "lambda_ = 0.8\n",
    "\n",
    "optimal_w, optimal_b, costs = gradient_descent(X_mapped, y_train, test_w, test_b, learning_rate, iterations, lambda_)\n",
    "\n",
    "print(f\"Optimal w: {optimal_w}\")\n",
    "print(f\"Optimal b: {optimal_b}\")\n"
   ]
  },
  {
   "cell_type": "code",
   "execution_count": 13,
   "id": "9aa5414f",
   "metadata": {},
   "outputs": [
    {
     "data": {
      "image/png": "[encoded data removed]",
      "text/plain": [
       "<Figure size 1000x600 with 1 Axes>"
      ]
     },
     "metadata": {},
     "output_type": "display_data"
    }
   ],
   "source": [
    "def predict(X, w, b):\n",
    "    z = np.dot(X, w) + b\n",
    "    return sigmoid(z)\n",
    "\n",
    "# Plot decision boundary\n",
    "def plot_decision_boundary(X, y, w, b):\n",
    "    plt.figure(figsize=(10, 6))\n",
    "    plot_data(X, y)\n",
    "    x1_min, x1_max = X[:, 0].min() - 0.5, X[:, 0].max() + 0.5\n",
    "    x2_min, x2_max = X[:, 1].min() - 0.5, X[:, 1].max() + 0.5\n",
    "    xx1, xx2 = np.meshgrid(np.linspace(x1_min, x1_max, 100),\n",
    "                           np.linspace(x2_min, x2_max, 100))\n",
    "    mapped_xx = map_feature(xx1.ravel(), xx2.ravel())\n",
    "    h = predict(mapped_xx, w, b)\n",
    "    h = h.reshape(xx1.shape)\n",
    "    plt.contour(xx1, xx2, h, [0.5], linewidths=1, colors='b')\n",
    "    plt.title(\"Decision Boundary\")\n",
    "    plt.show()\n",
    "\n",
    "plot_decision_boundary(X_train, y_train, optimal_w, optimal_b)"
   ]
  },
  {
   "cell_type": "code",
   "execution_count": 14,
   "id": "76ac3ffd",
   "metadata": {},
   "outputs": [
    {
     "name": "stdout",
     "output_type": "stream",
     "text": [
      "Training Accuracy: 83.89830508474576%\n"
     ]
    }
   ],
   "source": [
    "\n",
    "# Accuracy function\n",
    "def accuracy(X, y, w, b, threshold=0.5):\n",
    "    p = predict(X, w, b) > threshold\n",
    "    return np.mean(p == y) * 100\n",
    "\n",
    "acc_train = accuracy(X_mapped, y_train, optimal_w, optimal_b)\n",
    "print(f\"Training Accuracy: {acc_train}%\")\n"
   ]
  },
  {
   "cell_type": "code",
   "execution_count": null,
   "id": "7ed1df82",
   "metadata": {},
   "outputs": [],
   "source": []
  }
 ],
 "metadata": {
  "kernelspec": {
   "display_name": "Python 3 (ipykernel)",
   "language": "python",
   "name": "python3"
  },
  "language_info": {
   "codemirror_mode": {
    "name": "ipython",
    "version": 3
   },
   "file_extension": ".py",
   "mimetype": "text/x-python",
   "name": "python",
   "nbconvert_exporter": "python",
   "pygments_lexer": "ipython3",
   "version": "3.10.9"
  }
 },
 "nbformat": 4,
 "nbformat_minor": 5
}
